{
 "cells": [
  {
   "cell_type": "markdown",
   "metadata": {},
   "source": [
    "# University of Wisconsin-Madison - School of Business"
   ]
  },
  {
   "cell_type": "markdown",
   "metadata": {},
   "source": [
    "Neda Jabbari, Erica Ho, Juan Julian Herranz\n",
    "08/08/2019\n",
    "\n"
   ]
  },
  {
   "cell_type": "markdown",
   "metadata": {},
   "source": [
    "Data reterived from:\n",
    "Browse through the information page for the University of Wisconsin Madison \n",
    "https://www.kaggle.com/Madgrades/uw-madison-courses\n",
    "\n",
    "\n",
    "Idenfify the courses related to the school of business.\n",
    "Business courses code ref: https://bus.wisc.edu/current-student-resources/bba/study-abroad/incoming-exchange-students/courses "
   ]
  },
  {
   "cell_type": "markdown",
   "metadata": {},
   "source": [
    "## H1: Course instructors affect the ratio of A grades.\n",
    "## H0: Course instructors have no effect on the ratio of A grades."
   ]
  },
  {
   "cell_type": "code",
   "execution_count": null,
   "metadata": {},
   "outputs": [],
   "source": [
    "import pandas as pd\n",
    "import numpy as np\n",
    "import psycopg2\n",
    "import statsmodels.api as sm\n",
    "from statsmodels.formula.api import ols\n",
    "import scipy.stats as s\n",
    "from scipy.stats import ttest_ind\n",
    "import seaborn as sns\n",
    "import matplotlib.pyplot as plt\n",
    "%matplotlib inline"
   ]
  },
  {
   "cell_type": "code",
   "execution_count": null,
   "metadata": {},
   "outputs": [],
   "source": [
    "conn = psycopg2.connect(host='localhost',\n",
    "                        database='uw-madison-courses')\n",
    "cur = conn.cursor()"
   ]
  },
  {
   "cell_type": "markdown",
   "metadata": {},
   "source": [
    "To investigate a relationship between course instructors and grades in the school of business, obtain data from: course_offerings, grade_distribution, subject_memberships, sections, teachings"
   ]
  },
  {
   "cell_type": "code",
   "execution_count": null,
   "metadata": {},
   "outputs": [],
   "source": [
    "bus_courses = ['231', '232', '233', '235', '236', '237', '238', '239', '241', '242']"
   ]
  },
  {
   "cell_type": "markdown",
   "metadata": {},
   "source": [
    "Querry the database to retrieve information on the desired courses."
   ]
  },
  {
   "cell_type": "code",
   "execution_count": null,
   "metadata": {},
   "outputs": [],
   "source": [
    "cur.execute(\"\"\"SELECT DISTINCT ON (s.course_offering_uuid, s.number)\n",
    "                      co.uuid\n",
    "                      ,co.name\n",
    "                      ,gd.section_number\n",
    "                      , gd.a_count\n",
    "                      , gd.ab_count\n",
    "                      , gd.b_count\n",
    "                      , gd.bc_count\n",
    "                      ,gd.c_count\n",
    "                      , gd.d_count\n",
    "                      , gd.f_count\n",
    "                      ,s.uuid\n",
    "                      ,t.instructor_id\n",
    "               FROM course_offerings co\n",
    "               INNER JOIN grade_distributions gd on co.uuid=gd.course_offering_uuid\n",
    "               INNER JOIN subject_memberships sm on co.uuid=sm.course_offering_uuid\n",
    "               INNER JOIN sections s ON co.uuid=s.course_offering_uuid\n",
    "               INNER JOIN teachings t ON s.uuid=t.section_uuid\n",
    "               WHERE sm.subject_code in ('231', '232', '233', '235', '236', '237', '238', '239', '241', '242')\n",
    "               ;\"\"\")\n",
    "\n",
    "business_courses = pd.DataFrame(cur.fetchall())\n",
    "business_courses.columns = ['uuid', 'name', 'section_number', 'a_count',\n",
    "                            'ab_count', 'b_count', 'bc_count', 'c_count', 'd_count', 'f_count', 'section_uuid', 'instructor_id']\n",
    "business_courses.head(5)"
   ]
  },
  {
   "cell_type": "code",
   "execution_count": null,
   "metadata": {},
   "outputs": [],
   "source": [
    "sum(business_courses.duplicated())"
   ]
  },
  {
   "cell_type": "code",
   "execution_count": null,
   "metadata": {},
   "outputs": [],
   "source": [
    "cur.execute(\"\"\"SELECT DISTINCT co1.uuid,\n",
    "                      count(distinct t.instructor_id) as teachers\n",
    "               FROM course_offerings co1\n",
    "               INNER JOIN subject_memberships sm on co1.uuid=sm.course_offering_uuid\n",
    "               INNER JOIN sections s ON co1.uuid=s.course_offering_uuid\n",
    "               INNER JOIN teachings t ON s.uuid=t.section_uuid\n",
    "               WHERE sm.subject_code in ('231', '232', '233', '235', '236', '237', '238', '239', '241', '242')\n",
    "               GROUP BY co1.uuid, sm.subject_code\n",
    "               ORDER BY teachers DESC\n",
    "               ;\"\"\")\n",
    "\n",
    "b_c_tchr_df = pd.DataFrame(cur.fetchall())\n",
    "b_c_tchr_df.columns = [i[0] for i in cur.description]\n",
    "b_c_tchr_df.head()"
   ]
  },
  {
   "cell_type": "code",
   "execution_count": null,
   "metadata": {},
   "outputs": [],
   "source": [
    "sns.set(rc={'figure.figsize':(15,10)})\n",
    "sns.distplot(business_courses['instructor_id'].value_counts());"
   ]
  },
  {
   "cell_type": "code",
   "execution_count": null,
   "metadata": {},
   "outputs": [],
   "source": [
    "business_courses.instructor_id.nunique()"
   ]
  },
  {
   "cell_type": "markdown",
   "metadata": {},
   "source": [
    "### Data engineering to include the total number of students in order to generate the As ratio"
   ]
  },
  {
   "cell_type": "markdown",
   "metadata": {},
   "source": [
    "Given that the grade columns are all strings, we need to convert them into integers in order to manipulate them"
   ]
  },
  {
   "cell_type": "code",
   "execution_count": null,
   "metadata": {},
   "outputs": [],
   "source": [
    "grade_cols = ['a_count', 'ab_count', 'b_count', 'bc_count', 'c_count', 'd_count', 'f_count']\n",
    "\n",
    "for grade_col in grade_cols:\n",
    "    business_courses[grade_col] = business_courses[grade_col].apply(lambda x: int(x))"
   ]
  },
  {
   "cell_type": "code",
   "execution_count": null,
   "metadata": {},
   "outputs": [],
   "source": [
    "business_courses['n_students'] = (business_courses['a_count'] + business_courses['ab_count'] \n",
    "                                         + business_courses['b_count'] + business_courses['bc_count']\n",
    "                                         + business_courses['c_count'] + business_courses['d_count']\n",
    "                                         + business_courses['f_count'])"
   ]
  },
  {
   "cell_type": "code",
   "execution_count": null,
   "metadata": {
    "scrolled": true
   },
   "outputs": [],
   "source": [
    "business_courses.head(2)\n",
    "business_courses.shape"
   ]
  },
  {
   "cell_type": "code",
   "execution_count": null,
   "metadata": {},
   "outputs": [],
   "source": [
    "business_courses = business_courses[business_courses['n_students']!= 0]"
   ]
  },
  {
   "cell_type": "code",
   "execution_count": null,
   "metadata": {},
   "outputs": [],
   "source": [
    "business_courses.shape"
   ]
  },
  {
   "cell_type": "code",
   "execution_count": null,
   "metadata": {},
   "outputs": [],
   "source": [
    "business_courses['ratio_of_a_grades'] = business_courses['a_count'] / business_courses['n_students']"
   ]
  },
  {
   "cell_type": "markdown",
   "metadata": {},
   "source": [
    "### Performing ANOVA test"
   ]
  },
  {
   "cell_type": "code",
   "execution_count": null,
   "metadata": {},
   "outputs": [],
   "source": [
    "formula = 'ratio_of_a_grades ~ instructor_id'\n",
    "lm = ols(formula, business_courses).fit()\n",
    "table = sm.stats.anova_lm(lm, typ=2)\n",
    "print(table)"
   ]
  },
  {
   "cell_type": "markdown",
   "metadata": {},
   "source": [
    "ANOVA test suggests that Course instructors affect the ratio of A grades."
   ]
  },
  {
   "cell_type": "markdown",
   "metadata": {},
   "source": [
    "## H1: The average grade among students who take online courses is lower than the rest of the students.\n",
    "## H0: The average grade among students who take online courses is not different from other students.\n",
    "\n"
   ]
  },
  {
   "cell_type": "code",
   "execution_count": null,
   "metadata": {},
   "outputs": [],
   "source": [
    "query = \"\"\"\n",
    "SELECT DISTINCT ON (sections.course_offering_uuid, sections.number)\n",
    "  sections.uuid\n",
    ", sections.course_offering_uuid\n",
    ", sections.section_type\n",
    ", sections.number AS section_number\n",
    ", sections.room_uuid\n",
    ", sections.schedule_uuid\n",
    "-- , course_offering_uuid\n",
    "-- , section_number\n",
    ", n_count\n",
    ", c_count\n",
    ", f_count\n",
    ", cr_count\n",
    ", p_count\n",
    ", nw_count\n",
    ", other_count\n",
    ", bc_count\n",
    ", u_count\n",
    ", d_count\n",
    ", ab_count\n",
    ", a_count\n",
    ", s_count\n",
    ", i_count\n",
    ", b_count\n",
    ", nr_count\n",
    "-- , uuid\n",
    ", facility_code\n",
    ", room_code\n",
    ",course_offerings.name\n",
    "-- ,subject_code\n",
    "FROM sections \n",
    "    INNER JOIN grade_distributions\n",
    "        ON sections.course_offering_uuid = grade_distributions.course_offering_uuid\n",
    "            AND sections.number = grade_distributions.section_number\n",
    "    INNER JOIN course_offerings \n",
    "        ON sections.course_offering_uuid = course_offerings.uuid\n",
    "    INNER JOIN subject_memberships\n",
    "        ON sections.course_offering_uuid = subject_memberships.course_offering_uuid\n",
    "    LEFT JOIN rooms ON sections.room_uuid = rooms.uuid\n",
    "    WHERE subject_memberships.subject_code in ('231', '232', '233', '235', '236', '237', '238', '239', '241', '242')\n",
    "\n",
    "\n",
    ";                      \n",
    "\"\"\"\n",
    "\n",
    "cur.execute(query)\n",
    "df= pd.DataFrame(cur.fetchall())\n",
    "df.columns = [i[0] for i in cur.description]\n",
    "df.head(5)"
   ]
  },
  {
   "cell_type": "code",
   "execution_count": null,
   "metadata": {},
   "outputs": [],
   "source": [
    "sum(df.duplicated())   #no duplicated rows"
   ]
  },
  {
   "cell_type": "code",
   "execution_count": null,
   "metadata": {},
   "outputs": [],
   "source": [
    "df = df.drop(\n",
    "    ['course_offering_uuid','section_number','schedule_uuid','n_count','cr_count',\n",
    "     'p_count','nw_count','other_count','u_count','s_count','i_count','nr_count'], axis=1)"
   ]
  },
  {
   "cell_type": "code",
   "execution_count": null,
   "metadata": {},
   "outputs": [],
   "source": [
    "for i in list(df.columns[3:10]):df[i]=df[i].astype('int64')   #convert str grade counts to int"
   ]
  },
  {
   "cell_type": "code",
   "execution_count": null,
   "metadata": {},
   "outputs": [],
   "source": [
    "count_cols = sorted(i for i in df.columns if i.endswith('_count'))\n",
    "\n",
    "grade_points = [4.0, 3.5, 3.0, 2.5, 2.0, 1.0, 0.0]\n",
    "\n",
    "count_col_values = dict(zip(count_cols, grade_points))\n",
    "count_col_values"
   ]
  },
  {
   "cell_type": "code",
   "execution_count": null,
   "metadata": {},
   "outputs": [],
   "source": [
    "grades_df = df.loc[:, count_col_values.keys()]"
   ]
  },
  {
   "cell_type": "code",
   "execution_count": null,
   "metadata": {},
   "outputs": [],
   "source": [
    "grade_values = np.array(list(count_col_values.values()))"
   ]
  },
  {
   "cell_type": "code",
   "execution_count": null,
   "metadata": {},
   "outputs": [],
   "source": [
    "grade_counts = grades_df.values\n",
    "grade_counts[1]\n",
    "sum(grade_counts[1])"
   ]
  },
  {
   "cell_type": "code",
   "execution_count": null,
   "metadata": {},
   "outputs": [],
   "source": [
    "grade_points = grade_counts @ grade_values"
   ]
  },
  {
   "cell_type": "code",
   "execution_count": null,
   "metadata": {},
   "outputs": [],
   "source": [
    "df['avg_grade_points'] = [grade_points[i]/sum(grade_counts[i]) \n",
    "                                                for i in range(len(grade_points))]"
   ]
  },
  {
   "cell_type": "code",
   "execution_count": null,
   "metadata": {},
   "outputs": [],
   "source": [
    "df = df.dropna(subset = ['avg_grade_points'])"
   ]
  },
  {
   "cell_type": "code",
   "execution_count": null,
   "metadata": {},
   "outputs": [],
   "source": [
    "df.loc[df['facility_code']=='ONLINE']['room_uuid'].unique()    #the room unique id for online courses is 86d1debf-3f3a-39b7-bc0d-976a4fa33862"
   ]
  },
  {
   "cell_type": "code",
   "execution_count": null,
   "metadata": {},
   "outputs": [],
   "source": [
    "#to get the list of online courses \n",
    "online_df = df.loc[df['room_uuid']=='86d1debf-3f3a-39b7-bc0d-976a4fa33862']\n",
    "online_df.head()\n",
    "online_df.shape"
   ]
  },
  {
   "cell_type": "code",
   "execution_count": null,
   "metadata": {},
   "outputs": [],
   "source": [
    "#to get the list of courses that are not online\n",
    "non_online_df = df.loc[df['room_uuid']!='86d1debf-3f3a-39b7-bc0d-976a4fa33862']\n",
    "non_online_df.head()\n",
    "non_online_df.shape"
   ]
  },
  {
   "cell_type": "code",
   "execution_count": null,
   "metadata": {},
   "outputs": [],
   "source": [
    "sns.set(rc={'figure.figsize':(15,10)})\n",
    "plt.ylabel('distribution')\n",
    "plt.title('Average Grade Ditribution')\n",
    "sns.distplot(non_online_df['avg_grade_points']);  # Blue distribution\n",
    "sns.distplot(online_df['avg_grade_points']);  # Orange distribution"
   ]
  },
  {
   "cell_type": "code",
   "execution_count": null,
   "metadata": {},
   "outputs": [],
   "source": [
    "print(s.normaltest(non_online_df['avg_grade_points']))  #non_online avg grade points are not normally distributed\n",
    "print(s.normaltest(online_df['avg_grade_points']))     #online avg grade points are not normally distributed"
   ]
  },
  {
   "cell_type": "code",
   "execution_count": null,
   "metadata": {},
   "outputs": [],
   "source": [
    "non_online_sample_means= [non_online_df['avg_grade_points'].sample(frac = 1, replace = True).mean() \n",
    "                          for i in range(1000)]"
   ]
  },
  {
   "cell_type": "code",
   "execution_count": null,
   "metadata": {},
   "outputs": [],
   "source": [
    "online_sample_means= [online_df['avg_grade_points'].sample(frac = 1, replace = True).mean() \n",
    "                          for i in range(1000)]"
   ]
  },
  {
   "cell_type": "code",
   "execution_count": null,
   "metadata": {},
   "outputs": [],
   "source": [
    "plt.xlabel('mean of sampled average grades')\n",
    "plt.ylabel('distribution')\n",
    "plt.title('Average Grade Sample Means Ditribution')\n",
    "sns.distplot(non_online_sample_means);\n",
    "sns.distplot(online_sample_means);"
   ]
  },
  {
   "cell_type": "code",
   "execution_count": null,
   "metadata": {},
   "outputs": [],
   "source": [
    "ttest_ind(non_online_sample_means, online_sample_means)  "
   ]
  },
  {
   "cell_type": "markdown",
   "metadata": {},
   "source": [
    "With alpha of 0.05 and pvalue/2 < alpha, the average grade among students who take online courses is lower than the rest of the students."
   ]
  },
  {
   "cell_type": "markdown",
   "metadata": {},
   "source": [
    "## H1: There is a difference between lecture classes of different number of students in terms of average grades.\n",
    "## H0: There is no difference between lecture classes of different number of students in terms of average grades."
   ]
  },
  {
   "cell_type": "code",
   "execution_count": null,
   "metadata": {},
   "outputs": [],
   "source": [
    "non_online_lecture_df= non_online_df[non_online_df[\"section_type\"]=='LEC']"
   ]
  },
  {
   "cell_type": "code",
   "execution_count": null,
   "metadata": {},
   "outputs": [],
   "source": [
    "count_cols = sorted(i for i in df.columns if i.endswith('_count'))"
   ]
  },
  {
   "cell_type": "code",
   "execution_count": null,
   "metadata": {},
   "outputs": [],
   "source": [
    "non_online_lecture_df['class_size'] = non_online_lecture_df.loc[:, count_cols].sum(axis=1)"
   ]
  },
  {
   "cell_type": "code",
   "execution_count": null,
   "metadata": {},
   "outputs": [],
   "source": [
    "sns.distplot(non_online_lecture_df['class_size']);  # Blue distribution"
   ]
  },
  {
   "cell_type": "code",
   "execution_count": null,
   "metadata": {},
   "outputs": [],
   "source": [
    "mean_class_size = non_online_lecture_df['class_size'].mean() "
   ]
  },
  {
   "cell_type": "code",
   "execution_count": null,
   "metadata": {},
   "outputs": [],
   "source": [
    "below_mean_non_online_lecture_df = non_online_lecture_df.loc[non_online_lecture_df['class_size'] > \n",
    "                                                             mean_class_size]\n",
    "above_mean_non_online_lecture_df = non_online_lecture_df.loc[non_online_lecture_df['class_size'] < \n",
    "                                                             mean_class_size]"
   ]
  },
  {
   "cell_type": "code",
   "execution_count": null,
   "metadata": {},
   "outputs": [],
   "source": [
    "sns.distplot(below_mean_non_online_lecture_df['avg_grade_points']);  # Blue distribution\n",
    "sns.distplot(above_mean_non_online_lecture_df['avg_grade_points']);"
   ]
  },
  {
   "cell_type": "code",
   "execution_count": null,
   "metadata": {},
   "outputs": [],
   "source": [
    "#check if the data is normally distributed\n",
    "print(s.normaltest(below_mean_non_online_lecture_df['avg_grade_points'])) \n",
    "\n",
    "print(s.normaltest(above_mean_non_online_lecture_df['avg_grade_points']))"
   ]
  },
  {
   "cell_type": "code",
   "execution_count": null,
   "metadata": {},
   "outputs": [],
   "source": [
    "below_mean_non_online_lecture_sample_means= [below_mean_non_online_lecture_df['avg_grade_points'].sample(frac = 1, replace = True).mean() \n",
    "                          for i in range(1000)]"
   ]
  },
  {
   "cell_type": "code",
   "execution_count": null,
   "metadata": {},
   "outputs": [],
   "source": [
    "above_mean_non_online_lecture_sample_means= [above_mean_non_online_lecture_df['avg_grade_points'].sample(frac = 1, replace = True).mean() \n",
    "                          for i in range(1000)]"
   ]
  },
  {
   "cell_type": "code",
   "execution_count": null,
   "metadata": {},
   "outputs": [],
   "source": [
    "sns.distplot(below_mean_non_online_lecture_sample_means);\n",
    "sns.distplot(above_mean_non_online_lecture_sample_means);"
   ]
  },
  {
   "cell_type": "code",
   "execution_count": null,
   "metadata": {},
   "outputs": [],
   "source": [
    "ttest_ind(below_mean_non_online_lecture_sample_means, above_mean_non_online_lecture_sample_means)  "
   ]
  },
  {
   "cell_type": "markdown",
   "metadata": {},
   "source": [
    "Based on the P-value and the alpha of 0.05, there is a difference between lecture classes of different number of students in terms of average grades."
   ]
  },
  {
   "cell_type": "markdown",
   "metadata": {},
   "source": [
    "## H1: There is a difference between grades offered in Fall term and those in Spring term.\n",
    "## H0: There is no difference between grades offered in Fall term and those in Spring term."
   ]
  },
  {
   "cell_type": "code",
   "execution_count": null,
   "metadata": {},
   "outputs": [],
   "source": [
    "cur.execute ( \"\"\"SELECT\n",
    "DISTINCT ON (sections.course_offering_uuid, sections.number)\n",
    "  sections.uuid\n",
    ", sections.course_offering_uuid\n",
    ", sections.section_type\n",
    ", sections.number AS section_number\n",
    ", sections.schedule_uuid\n",
    ", facility_code\n",
    ", term_code\n",
    ", course_offerings.name\n",
    ", a_count\n",
    ", ab_count\n",
    ", b_count\n",
    ", bc_count\n",
    ", c_count\n",
    ", d_count\n",
    ", f_count\n",
    "-- ,subject_code\n",
    "-- , course_offering_uuid\n",
    "-- , section_number\n",
    "-- , uuid\n",
    "FROM sections\n",
    "   INNER JOIN grade_distributions\n",
    "       ON sections.course_offering_uuid = grade_distributions.course_offering_uuid\n",
    "           AND sections.number = grade_distributions.section_number\n",
    "   INNER JOIN course_offerings\n",
    "       ON sections.course_offering_uuid = course_offerings.uuid\n",
    "   INNER JOIN subject_memberships\n",
    "       ON sections.course_offering_uuid = subject_memberships.course_offering_uuid\n",
    "   LEFT JOIN rooms ON sections.room_uuid = rooms.uuid\n",
    "WHERE subject_memberships.subject_code in ('232', '233', '231', '237', '238', '242', '236', '239', '235','241')\n",
    ";\"\"\")\n",
    "course_grades_sub_df= pd.DataFrame(cur.fetchall())\n",
    "course_grades_sub_df.columns = [i[0] for i in cur.description]"
   ]
  },
  {
   "cell_type": "code",
   "execution_count": null,
   "metadata": {},
   "outputs": [],
   "source": [
    "course_grades_sub_df['c_count'] = course_grades_sub_df['c_count'].astype(int)\n",
    "course_grades_sub_df['bc_count'] = course_grades_sub_df['bc_count'].astype(int)\n",
    "course_grades_sub_df['d_count'] = course_grades_sub_df['d_count'].astype(int)\n",
    "course_grades_sub_df['ab_count'] = course_grades_sub_df['ab_count'].astype(int)\n",
    "course_grades_sub_df['a_count'] = course_grades_sub_df['a_count'].astype(int)\n",
    "course_grades_sub_df['b_count'] = course_grades_sub_df['b_count'].astype(int)\n",
    "course_grades_sub_df['f_count'] = course_grades_sub_df['f_count'].astype(int)"
   ]
  },
  {
   "cell_type": "code",
   "execution_count": null,
   "metadata": {},
   "outputs": [],
   "source": [
    "course_grades_sub_df['total_num_student'] = (course_grades_sub_df['a_count'] \n",
    "                                             + course_grades_sub_df['ab_count'] \n",
    "                                             + course_grades_sub_df['b_count']\n",
    "                                             + course_grades_sub_df['bc_count'] \n",
    "                                             + course_grades_sub_df['c_count'] \n",
    "                                             + course_grades_sub_df['d_count'] \n",
    "                                             + course_grades_sub_df['f_count'])"
   ]
  },
  {
   "cell_type": "code",
   "execution_count": null,
   "metadata": {},
   "outputs": [],
   "source": [
    "course_grades_sub_df['avg_grade'] = (course_grades_sub_df['a_count']*4 + course_grades_sub_df['ab_count']*3.5 \n",
    "+ course_grades_sub_df['b_count']*3 + course_grades_sub_df['bc_count']*2.5 + course_grades_sub_df['c_count']*2\n",
    "+ course_grades_sub_df['d_count']*1)/course_grades_sub_df['total_num_student']"
   ]
  },
  {
   "cell_type": "markdown",
   "metadata": {},
   "source": [
    "As the analysis is solely based on courses that are graded, the dataframe only includes classes that have grades "
   ]
  },
  {
   "cell_type": "code",
   "execution_count": null,
   "metadata": {},
   "outputs": [],
   "source": [
    "course_grades_sub_df = course_grades_sub_df.loc[~(course_grades_sub_df['total_num_student']==0),:]"
   ]
  },
  {
   "cell_type": "code",
   "execution_count": null,
   "metadata": {},
   "outputs": [],
   "source": [
    "course_grades_sub_df['term_code'] = course_grades_sub_df['term_code'].astype(str)"
   ]
  },
  {
   "cell_type": "code",
   "execution_count": null,
   "metadata": {},
   "outputs": [],
   "source": [
    "def term(term_code):\n",
    "    if term_code[-1] == '2':\n",
    "        return 'fall'\n",
    "    elif term_code[-1] == '4':\n",
    "        return 'spring'\n",
    "    else:\n",
    "        return 'other'           \n",
    "        \n",
    "course_grades_sub_df['term'] = course_grades_sub_df['term_code'].apply(term)"
   ]
  },
  {
   "cell_type": "code",
   "execution_count": null,
   "metadata": {},
   "outputs": [],
   "source": [
    "other_df = course_grades_sub_df.loc[course_grades_sub_df['term'] == 'other']\n",
    "len(other_df)"
   ]
  },
  {
   "cell_type": "code",
   "execution_count": null,
   "metadata": {},
   "outputs": [],
   "source": [
    "fall_df = course_grades_sub_df.loc[course_grades_sub_df['term'] == 'fall']\n",
    "len(fall_df)"
   ]
  },
  {
   "cell_type": "code",
   "execution_count": null,
   "metadata": {},
   "outputs": [],
   "source": [
    "spring_df = course_grades_sub_df.loc[course_grades_sub_df['term'] == 'spring']\n",
    "len(spring_df)"
   ]
  },
  {
   "cell_type": "markdown",
   "metadata": {},
   "source": [
    "Fall term dataframe"
   ]
  },
  {
   "cell_type": "code",
   "execution_count": null,
   "metadata": {},
   "outputs": [],
   "source": [
    "fall_sample_mean = sum(fall_df['avg_grade'])/len(fall_df)"
   ]
  },
  {
   "cell_type": "code",
   "execution_count": null,
   "metadata": {},
   "outputs": [],
   "source": [
    "sns.distplot(fall_df['avg_grade'])"
   ]
  },
  {
   "cell_type": "markdown",
   "metadata": {},
   "source": [
    "Spring term dataframe"
   ]
  },
  {
   "cell_type": "code",
   "execution_count": null,
   "metadata": {},
   "outputs": [],
   "source": [
    "spring_sample_mean = sum(spring_df['avg_grade'])/len(spring_df)"
   ]
  },
  {
   "cell_type": "code",
   "execution_count": null,
   "metadata": {},
   "outputs": [],
   "source": [
    "sns.distplot(spring_df['avg_grade'])"
   ]
  },
  {
   "cell_type": "markdown",
   "metadata": {},
   "source": [
    "Bootstrapping for fall term and spring term"
   ]
  },
  {
   "cell_type": "code",
   "execution_count": null,
   "metadata": {},
   "outputs": [],
   "source": [
    "bootstrap_samples_fall = []\n",
    "bootstrap_sample_means_fall = np.zeros(3168)\n",
    "for i in range(3168):\n",
    "    bootstrap_sample = np.random.choice(fall_df['avg_grade'], size=3168)\n",
    "    bootstrap_samples_fall.append(bootstrap_sample)\n",
    "    bootstrap_sample_means_fall[i] = bootstrap_sample.mean()"
   ]
  },
  {
   "cell_type": "code",
   "execution_count": null,
   "metadata": {},
   "outputs": [],
   "source": [
    "bootstrap_samples_spring = []\n",
    "bootstrap_sample_means_spring = np.zeros(2540)\n",
    "for i in range(2540):\n",
    "    bootstrap_sample = np.random.choice(spring_df['avg_grade'], size=2540)\n",
    "    bootstrap_samples_spring.append(bootstrap_sample)\n",
    "    bootstrap_sample_means_spring[i] = bootstrap_sample.mean()"
   ]
  },
  {
   "cell_type": "code",
   "execution_count": null,
   "metadata": {},
   "outputs": [],
   "source": [
    "fig, ax = plt.subplots()\n",
    "sns.distplot(bootstrap_sample_means_fall)\n",
    "sns.distplot(bootstrap_sample_means_spring)\n",
    "plt.title('Grades in Fall and Spring Terms')\n",
    "plt.xlabel('Grades')\n",
    "plt.ylabel('Number of students');"
   ]
  },
  {
   "cell_type": "code",
   "execution_count": null,
   "metadata": {},
   "outputs": [],
   "source": [
    "print(s.ttest_ind(spring_df['avg_grade'], fall_df['avg_grade']))"
   ]
  },
  {
   "cell_type": "markdown",
   "metadata": {},
   "source": [
    "Based on the P-value and the alpha of 0.05, there is no difference between grades offered in Fall term and those in Spring term"
   ]
  }
 ],
 "metadata": {
  "kernelspec": {
   "display_name": "Python 3",
   "language": "python",
   "name": "python3"
  },
  "language_info": {
   "codemirror_mode": {
    "name": "ipython",
    "version": 3
   },
   "file_extension": ".py",
   "mimetype": "text/x-python",
   "name": "python",
   "nbconvert_exporter": "python",
   "pygments_lexer": "ipython3",
   "version": "3.7.3"
  }
 },
 "nbformat": 4,
 "nbformat_minor": 2
}

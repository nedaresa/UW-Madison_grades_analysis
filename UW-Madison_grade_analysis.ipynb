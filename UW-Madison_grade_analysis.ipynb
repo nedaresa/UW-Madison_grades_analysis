{
 "cells": [
  {
   "cell_type": "markdown",
   "metadata": {},
   "source": [
    "# University of Wisconsin-Madison - School of Business"
   ]
  },
  {
   "cell_type": "markdown",
   "metadata": {},
   "source": [
    "Neda Jabbari, Erica Ho, Juan Julian Herranz\n",
    "08/08/2019\n",
    "\n"
   ]
  },
  {
   "cell_type": "markdown",
   "metadata": {},
   "source": [
    "Data reterived from:\n",
    "Browse through the information page for the University of Wisconsin Madison \n",
    "https://www.kaggle.com/Madgrades/uw-madison-courses\n",
    "\n",
    "\n",
    "Idenfify the courses related to the school of business.\n",
    "Business courses code ref: https://bus.wisc.edu/current-student-resources/bba/study-abroad/incoming-exchange-students/courses "
   ]
  },
  {
   "cell_type": "markdown",
   "metadata": {},
   "source": [
    "## H1: Course instructors affect the ratio of A grades.\n",
    "## H0: Course instructors have no effect on the ratio of A grades."
   ]
  },
  {
   "cell_type": "code",
   "execution_count": 257,
   "metadata": {},
   "outputs": [],
   "source": [
    "import pandas as pd\n",
    "import numpy as np\n",
    "import psycopg2\n",
    "import statsmodels.api as sm\n",
    "from statsmodels.formula.api import ols\n",
    "import scipy.stats as s\n",
    "from scipy.stats import ttest_ind\n",
    "import seaborn as sns\n",
    "import matplotlib.pyplot as plt\n",
    "%matplotlib inline"
   ]
  },
  {
   "cell_type": "code",
   "execution_count": 230,
   "metadata": {},
   "outputs": [],
   "source": [
    "conn = psycopg2.connect(host='localhost',\n",
    "                        database='uw-madison-courses')\n",
    "cur = conn.cursor()"
   ]
  },
  {
   "cell_type": "markdown",
   "metadata": {},
   "source": [
    "To investigate a relationship between course instructors and grades in the school of business, obtain data from: course_offerings, grade_distribution, subject_memberships, sections, teachings"
   ]
  },
  {
   "cell_type": "code",
   "execution_count": 205,
   "metadata": {},
   "outputs": [],
   "source": [
    "bus_courses = ['231', '232', '233', '235', '236', '237', '238', '239', '241', '242']"
   ]
  },
  {
   "cell_type": "markdown",
   "metadata": {},
   "source": [
    "Querry the database to retrieve information on the desired courses."
   ]
  },
  {
   "cell_type": "code",
   "execution_count": 209,
   "metadata": {},
   "outputs": [
    {
     "data": {
      "text/html": [
       "<div>\n",
       "<style scoped>\n",
       "    .dataframe tbody tr th:only-of-type {\n",
       "        vertical-align: middle;\n",
       "    }\n",
       "\n",
       "    .dataframe tbody tr th {\n",
       "        vertical-align: top;\n",
       "    }\n",
       "\n",
       "    .dataframe thead th {\n",
       "        text-align: right;\n",
       "    }\n",
       "</style>\n",
       "<table border=\"1\" class=\"dataframe\">\n",
       "  <thead>\n",
       "    <tr style=\"text-align: right;\">\n",
       "      <th></th>\n",
       "      <th>uuid</th>\n",
       "      <th>name</th>\n",
       "      <th>section_number</th>\n",
       "      <th>a_count</th>\n",
       "      <th>ab_count</th>\n",
       "      <th>b_count</th>\n",
       "      <th>bc_count</th>\n",
       "      <th>c_count</th>\n",
       "      <th>d_count</th>\n",
       "      <th>f_count</th>\n",
       "      <th>section_uuid</th>\n",
       "      <th>instructor_id</th>\n",
       "    </tr>\n",
       "  </thead>\n",
       "  <tbody>\n",
       "    <tr>\n",
       "      <th>0</th>\n",
       "      <td>00128b0a-ffbf-332c-b93c-53e011e55fb5</td>\n",
       "      <td>Reading &amp; Rsch-Finance PhD</td>\n",
       "      <td>16</td>\n",
       "      <td>0</td>\n",
       "      <td>0</td>\n",
       "      <td>0</td>\n",
       "      <td>0</td>\n",
       "      <td>0</td>\n",
       "      <td>0</td>\n",
       "      <td>0</td>\n",
       "      <td>f03eb2e1-8010-3357-97ce-6fa2e3c87499</td>\n",
       "      <td>4461496</td>\n",
       "    </tr>\n",
       "    <tr>\n",
       "      <th>1</th>\n",
       "      <td>0015c914-93c4-3991-a63f-ea8a6e208552</td>\n",
       "      <td>Contemporary Topics</td>\n",
       "      <td>1</td>\n",
       "      <td>15</td>\n",
       "      <td>8</td>\n",
       "      <td>3</td>\n",
       "      <td>0</td>\n",
       "      <td>0</td>\n",
       "      <td>0</td>\n",
       "      <td>0</td>\n",
       "      <td>75c792a0-42cd-37f6-a575-37fb25644168</td>\n",
       "      <td>473200</td>\n",
       "    </tr>\n",
       "    <tr>\n",
       "      <th>2</th>\n",
       "      <td>0015c914-93c4-3991-a63f-ea8a6e208552</td>\n",
       "      <td>Contemporary Topics</td>\n",
       "      <td>1</td>\n",
       "      <td>15</td>\n",
       "      <td>8</td>\n",
       "      <td>3</td>\n",
       "      <td>0</td>\n",
       "      <td>0</td>\n",
       "      <td>0</td>\n",
       "      <td>0</td>\n",
       "      <td>46fdf222-bd05-393d-bcd8-fb7c16dc0c76</td>\n",
       "      <td>260106</td>\n",
       "    </tr>\n",
       "    <tr>\n",
       "      <th>3</th>\n",
       "      <td>00293eb5-6dc1-36f7-99fc-6d8fb17f37d9</td>\n",
       "      <td>Readng &amp; Rsch-Marketing PhD</td>\n",
       "      <td>107</td>\n",
       "      <td>0</td>\n",
       "      <td>0</td>\n",
       "      <td>0</td>\n",
       "      <td>0</td>\n",
       "      <td>0</td>\n",
       "      <td>0</td>\n",
       "      <td>0</td>\n",
       "      <td>deeb10e2-4a84-3f2a-aa82-c060327abf3b</td>\n",
       "      <td>4461492</td>\n",
       "    </tr>\n",
       "    <tr>\n",
       "      <th>4</th>\n",
       "      <td>00293eb5-6dc1-36f7-99fc-6d8fb17f37d9</td>\n",
       "      <td>Readng &amp; Rsch-Marketing PhD</td>\n",
       "      <td>107</td>\n",
       "      <td>0</td>\n",
       "      <td>0</td>\n",
       "      <td>0</td>\n",
       "      <td>0</td>\n",
       "      <td>0</td>\n",
       "      <td>0</td>\n",
       "      <td>0</td>\n",
       "      <td>e3a71e45-d934-3a90-ace3-1c3623724667</td>\n",
       "      <td>3039911</td>\n",
       "    </tr>\n",
       "  </tbody>\n",
       "</table>\n",
       "</div>"
      ],
      "text/plain": [
       "                                   uuid                         name  \\\n",
       "0  00128b0a-ffbf-332c-b93c-53e011e55fb5   Reading & Rsch-Finance PhD   \n",
       "1  0015c914-93c4-3991-a63f-ea8a6e208552          Contemporary Topics   \n",
       "2  0015c914-93c4-3991-a63f-ea8a6e208552          Contemporary Topics   \n",
       "3  00293eb5-6dc1-36f7-99fc-6d8fb17f37d9  Readng & Rsch-Marketing PhD   \n",
       "4  00293eb5-6dc1-36f7-99fc-6d8fb17f37d9  Readng & Rsch-Marketing PhD   \n",
       "\n",
       "  section_number a_count ab_count b_count bc_count c_count d_count f_count  \\\n",
       "0             16       0        0       0        0       0       0       0   \n",
       "1              1      15        8       3        0       0       0       0   \n",
       "2              1      15        8       3        0       0       0       0   \n",
       "3            107       0        0       0        0       0       0       0   \n",
       "4            107       0        0       0        0       0       0       0   \n",
       "\n",
       "                           section_uuid instructor_id  \n",
       "0  f03eb2e1-8010-3357-97ce-6fa2e3c87499       4461496  \n",
       "1  75c792a0-42cd-37f6-a575-37fb25644168        473200  \n",
       "2  46fdf222-bd05-393d-bcd8-fb7c16dc0c76        260106  \n",
       "3  deeb10e2-4a84-3f2a-aa82-c060327abf3b       4461492  \n",
       "4  e3a71e45-d934-3a90-ace3-1c3623724667       3039911  "
      ]
     },
     "execution_count": 209,
     "metadata": {},
     "output_type": "execute_result"
    }
   ],
   "source": [
    "cur.execute(\"\"\"SELECT DISTINCT ON (s.course_offering_uuid, s.number)\n",
    "                      co.uuid\n",
    "                      ,co.name\n",
    "                      ,gd.section_number\n",
    "                      , gd.a_count\n",
    "                      , gd.ab_count\n",
    "                      , gd.b_count\n",
    "                      , gd.bc_count\n",
    "                      ,gd.c_count\n",
    "                      , gd.d_count\n",
    "                      , gd.f_count\n",
    "                      ,s.uuid\n",
    "                      ,t.instructor_id\n",
    "               FROM course_offerings co\n",
    "               INNER JOIN grade_distributions gd on co.uuid=gd.course_offering_uuid\n",
    "               INNER JOIN subject_memberships sm on co.uuid=sm.course_offering_uuid\n",
    "               INNER JOIN sections s ON co.uuid=s.course_offering_uuid\n",
    "               INNER JOIN teachings t ON s.uuid=t.section_uuid\n",
    "               WHERE sm.subject_code in ('231', '232', '233', '235', '236', '237', '238', '239', '241', '242')\n",
    "               ;\"\"\")\n",
    "\n",
    "business_courses = pd.DataFrame(cur.fetchall())\n",
    "business_courses.columns = ['uuid', 'name', 'section_number', 'a_count',\n",
    "                            'ab_count', 'b_count', 'bc_count', 'c_count', 'd_count', 'f_count', 'section_uuid', 'instructor_id']\n",
    "business_courses.head(5)"
   ]
  },
  {
   "cell_type": "code",
   "execution_count": 210,
   "metadata": {},
   "outputs": [
    {
     "data": {
      "text/plain": [
       "0"
      ]
     },
     "execution_count": 210,
     "metadata": {},
     "output_type": "execute_result"
    }
   ],
   "source": [
    "sum(business_courses.duplicated())"
   ]
  },
  {
   "cell_type": "code",
   "execution_count": 186,
   "metadata": {},
   "outputs": [
    {
     "data": {
      "text/html": [
       "<div>\n",
       "<style scoped>\n",
       "    .dataframe tbody tr th:only-of-type {\n",
       "        vertical-align: middle;\n",
       "    }\n",
       "\n",
       "    .dataframe tbody tr th {\n",
       "        vertical-align: top;\n",
       "    }\n",
       "\n",
       "    .dataframe thead th {\n",
       "        text-align: right;\n",
       "    }\n",
       "</style>\n",
       "<table border=\"1\" class=\"dataframe\">\n",
       "  <thead>\n",
       "    <tr style=\"text-align: right;\">\n",
       "      <th></th>\n",
       "      <th>uuid</th>\n",
       "      <th>teachers</th>\n",
       "    </tr>\n",
       "  </thead>\n",
       "  <tbody>\n",
       "    <tr>\n",
       "      <th>0</th>\n",
       "      <td>152af4c6-2068-30b2-b65c-1f61d4d5c869</td>\n",
       "      <td>29</td>\n",
       "    </tr>\n",
       "    <tr>\n",
       "      <th>1</th>\n",
       "      <td>030862be-dbe8-375b-9691-778b53a1963f</td>\n",
       "      <td>22</td>\n",
       "    </tr>\n",
       "    <tr>\n",
       "      <th>2</th>\n",
       "      <td>1fbb001b-7a3f-3759-aca8-028ce3beb2f9</td>\n",
       "      <td>22</td>\n",
       "    </tr>\n",
       "    <tr>\n",
       "      <th>3</th>\n",
       "      <td>5b47862c-613e-3bc6-9412-db16cc5e2cb5</td>\n",
       "      <td>22</td>\n",
       "    </tr>\n",
       "    <tr>\n",
       "      <th>4</th>\n",
       "      <td>9ba4f0e1-7138-3c05-8a34-36b39adde3fc</td>\n",
       "      <td>22</td>\n",
       "    </tr>\n",
       "  </tbody>\n",
       "</table>\n",
       "</div>"
      ],
      "text/plain": [
       "                                   uuid  teachers\n",
       "0  152af4c6-2068-30b2-b65c-1f61d4d5c869        29\n",
       "1  030862be-dbe8-375b-9691-778b53a1963f        22\n",
       "2  1fbb001b-7a3f-3759-aca8-028ce3beb2f9        22\n",
       "3  5b47862c-613e-3bc6-9412-db16cc5e2cb5        22\n",
       "4  9ba4f0e1-7138-3c05-8a34-36b39adde3fc        22"
      ]
     },
     "execution_count": 186,
     "metadata": {},
     "output_type": "execute_result"
    }
   ],
   "source": [
    "cur.execute(\"\"\"SELECT DISTINCT co1.uuid,\n",
    "                      count(distinct t.instructor_id) as teachers\n",
    "               FROM course_offerings co1\n",
    "               INNER JOIN subject_memberships sm on co1.uuid=sm.course_offering_uuid\n",
    "               INNER JOIN sections s ON co1.uuid=s.course_offering_uuid\n",
    "               INNER JOIN teachings t ON s.uuid=t.section_uuid\n",
    "               WHERE sm.subject_code in ('231', '232', '233', '235', '236', '237', '238', '239', '241', '242')\n",
    "               GROUP BY co1.uuid, sm.subject_code\n",
    "               ORDER BY teachers DESC\n",
    "               ;\"\"\")\n",
    "\n",
    "b_c_tchr_df = pd.DataFrame(cur.fetchall())\n",
    "b_c_tchr_df.columns = [i[0] for i in cur.description]\n",
    "b_c_tchr_df.head()"
   ]
  },
  {
   "cell_type": "code",
   "execution_count": 211,
   "metadata": {},
   "outputs": [
    {
     "data": {
      "image/png": "[encoded data removed]",
      "text/plain": [
       "<Figure size 1080x720 with 1 Axes>"
      ]
     },
     "metadata": {},
     "output_type": "display_data"
    }
   ],
   "source": [
    "sns.set(rc={'figure.figsize':(15,10)})\n",
    "sns.distplot(business_courses['instructor_id'].value_counts());"
   ]
  },
  {
   "cell_type": "code",
   "execution_count": 212,
   "metadata": {},
   "outputs": [
    {
     "data": {
      "text/plain": [
       "1180"
      ]
     },
     "execution_count": 212,
     "metadata": {},
     "output_type": "execute_result"
    }
   ],
   "source": [
    "business_courses.instructor_id.nunique()"
   ]
  },
  {
   "cell_type": "markdown",
   "metadata": {},
   "source": [
    "### Data engineering to include the total number of students in order to generate the As ratio"
   ]
  },
  {
   "cell_type": "markdown",
   "metadata": {},
   "source": [
    "Given that the grade columns are all strings, we need to convert them into integers in order to manipulate them"
   ]
  },
  {
   "cell_type": "code",
   "execution_count": 213,
   "metadata": {},
   "outputs": [],
   "source": [
    "grade_cols = ['a_count', 'ab_count', 'b_count', 'bc_count', 'c_count', 'd_count', 'f_count']\n",
    "\n",
    "for grade_col in grade_cols:\n",
    "    business_courses[grade_col] = business_courses[grade_col].apply(lambda x: int(x))"
   ]
  },
  {
   "cell_type": "code",
   "execution_count": 214,
   "metadata": {},
   "outputs": [],
   "source": [
    "business_courses['n_students'] = (business_courses['a_count'] + business_courses['ab_count'] \n",
    "                                         + business_courses['b_count'] + business_courses['bc_count']\n",
    "                                         + business_courses['c_count'] + business_courses['d_count']\n",
    "                                         + business_courses['f_count'])"
   ]
  },
  {
   "cell_type": "code",
   "execution_count": 215,
   "metadata": {
    "scrolled": true
   },
   "outputs": [
    {
     "data": {
      "text/plain": [
       "(9858, 13)"
      ]
     },
     "execution_count": 215,
     "metadata": {},
     "output_type": "execute_result"
    }
   ],
   "source": [
    "business_courses.head(2)\n",
    "business_courses.shape"
   ]
  },
  {
   "cell_type": "code",
   "execution_count": 216,
   "metadata": {},
   "outputs": [],
   "source": [
    "business_courses = business_courses[business_courses['n_students']!= 0]"
   ]
  },
  {
   "cell_type": "code",
   "execution_count": 228,
   "metadata": {},
   "outputs": [
    {
     "data": {
      "text/plain": [
       "(8403, 14)"
      ]
     },
     "execution_count": 228,
     "metadata": {},
     "output_type": "execute_result"
    }
   ],
   "source": [
    "business_courses.shape"
   ]
  },
  {
   "cell_type": "code",
   "execution_count": 220,
   "metadata": {},
   "outputs": [],
   "source": [
    "business_courses['ratio_of_a_grades'] = business_courses['a_count'] / business_courses['n_students']"
   ]
  },
  {
   "cell_type": "markdown",
   "metadata": {},
   "source": [
    "### Performing ANOVA test"
   ]
  },
  {
   "cell_type": "code",
   "execution_count": 222,
   "metadata": {},
   "outputs": [
    {
     "name": "stdout",
     "output_type": "stream",
     "text": [
      "                   sum_sq      df         F  PR(>F)\n",
      "instructor_id  347.855658  1162.0  9.184688     0.0\n",
      "Residual       235.975591  7240.0       NaN     NaN\n"
     ]
    }
   ],
   "source": [
    "formula = 'ratio_of_a_grades ~ instructor_id'\n",
    "lm = ols(formula, business_courses).fit()\n",
    "table = sm.stats.anova_lm(lm, typ=2)\n",
    "print(table)"
   ]
  },
  {
   "cell_type": "markdown",
   "metadata": {},
   "source": [
    "ANOVA test suggests that Course instructors affect the ratio of A grades."
   ]
  },
  {
   "cell_type": "markdown",
   "metadata": {},
   "source": [
    "## H1: The average grade among students who take online courses is lower than the rest of the students.\n",
    "## H0: The average grade among students who take online courses is not different from other students.\n",
    "\n"
   ]
  },
  {
   "cell_type": "code",
   "execution_count": 240,
   "metadata": {},
   "outputs": [
    {
     "data": {
      "text/html": [
       "<div>\n",
       "<style scoped>\n",
       "    .dataframe tbody tr th:only-of-type {\n",
       "        vertical-align: middle;\n",
       "    }\n",
       "\n",
       "    .dataframe tbody tr th {\n",
       "        vertical-align: top;\n",
       "    }\n",
       "\n",
       "    .dataframe thead th {\n",
       "        text-align: right;\n",
       "    }\n",
       "</style>\n",
       "<table border=\"1\" class=\"dataframe\">\n",
       "  <thead>\n",
       "    <tr style=\"text-align: right;\">\n",
       "      <th></th>\n",
       "      <th>uuid</th>\n",
       "      <th>course_offering_uuid</th>\n",
       "      <th>section_type</th>\n",
       "      <th>section_number</th>\n",
       "      <th>room_uuid</th>\n",
       "      <th>schedule_uuid</th>\n",
       "      <th>n_count</th>\n",
       "      <th>c_count</th>\n",
       "      <th>f_count</th>\n",
       "      <th>cr_count</th>\n",
       "      <th>...</th>\n",
       "      <th>d_count</th>\n",
       "      <th>ab_count</th>\n",
       "      <th>a_count</th>\n",
       "      <th>s_count</th>\n",
       "      <th>i_count</th>\n",
       "      <th>b_count</th>\n",
       "      <th>nr_count</th>\n",
       "      <th>facility_code</th>\n",
       "      <th>room_code</th>\n",
       "      <th>name</th>\n",
       "    </tr>\n",
       "  </thead>\n",
       "  <tbody>\n",
       "    <tr>\n",
       "      <th>0</th>\n",
       "      <td>f03eb2e1-8010-3357-97ce-6fa2e3c87499</td>\n",
       "      <td>00128b0a-ffbf-332c-b93c-53e011e55fb5</td>\n",
       "      <td>IND</td>\n",
       "      <td>16</td>\n",
       "      <td>null</td>\n",
       "      <td>f2d66a4d-0c08-3b48-abf6-649fffd7ae90</td>\n",
       "      <td>0</td>\n",
       "      <td>0</td>\n",
       "      <td>0</td>\n",
       "      <td>0</td>\n",
       "      <td>...</td>\n",
       "      <td>0</td>\n",
       "      <td>0</td>\n",
       "      <td>0</td>\n",
       "      <td>0</td>\n",
       "      <td>0</td>\n",
       "      <td>0</td>\n",
       "      <td>0</td>\n",
       "      <td>None</td>\n",
       "      <td>None</td>\n",
       "      <td>Reading &amp; Rsch-Finance PhD</td>\n",
       "    </tr>\n",
       "    <tr>\n",
       "      <th>1</th>\n",
       "      <td>75c792a0-42cd-37f6-a575-37fb25644168</td>\n",
       "      <td>0015c914-93c4-3991-a63f-ea8a6e208552</td>\n",
       "      <td>LEC</td>\n",
       "      <td>1</td>\n",
       "      <td>bb9eba97-b269-3860-b60e-804c98a90461</td>\n",
       "      <td>488512b0-55c4-37eb-8ef3-f6c2edb595c9</td>\n",
       "      <td>0</td>\n",
       "      <td>0</td>\n",
       "      <td>0</td>\n",
       "      <td>0</td>\n",
       "      <td>...</td>\n",
       "      <td>0</td>\n",
       "      <td>8</td>\n",
       "      <td>15</td>\n",
       "      <td>1</td>\n",
       "      <td>0</td>\n",
       "      <td>3</td>\n",
       "      <td>0</td>\n",
       "      <td>0140</td>\n",
       "      <td>2195</td>\n",
       "      <td>Contemporary Topics</td>\n",
       "    </tr>\n",
       "    <tr>\n",
       "      <th>2</th>\n",
       "      <td>46fdf222-bd05-393d-bcd8-fb7c16dc0c76</td>\n",
       "      <td>0015c914-93c4-3991-a63f-ea8a6e208552</td>\n",
       "      <td>LEC</td>\n",
       "      <td>7</td>\n",
       "      <td>dd6118e0-7221-3b81-9b29-aad61f0ede54</td>\n",
       "      <td>acfa659f-afaa-355c-a3a9-16d23ad183b9</td>\n",
       "      <td>0</td>\n",
       "      <td>0</td>\n",
       "      <td>0</td>\n",
       "      <td>0</td>\n",
       "      <td>...</td>\n",
       "      <td>0</td>\n",
       "      <td>0</td>\n",
       "      <td>18</td>\n",
       "      <td>0</td>\n",
       "      <td>0</td>\n",
       "      <td>0</td>\n",
       "      <td>0</td>\n",
       "      <td>0140</td>\n",
       "      <td>1070</td>\n",
       "      <td>Contemporary Topics</td>\n",
       "    </tr>\n",
       "    <tr>\n",
       "      <th>3</th>\n",
       "      <td>deeb10e2-4a84-3f2a-aa82-c060327abf3b</td>\n",
       "      <td>00293eb5-6dc1-36f7-99fc-6d8fb17f37d9</td>\n",
       "      <td>IND</td>\n",
       "      <td>10</td>\n",
       "      <td>null</td>\n",
       "      <td>f2d66a4d-0c08-3b48-abf6-649fffd7ae90</td>\n",
       "      <td>0</td>\n",
       "      <td>0</td>\n",
       "      <td>0</td>\n",
       "      <td>0</td>\n",
       "      <td>...</td>\n",
       "      <td>0</td>\n",
       "      <td>0</td>\n",
       "      <td>0</td>\n",
       "      <td>0</td>\n",
       "      <td>0</td>\n",
       "      <td>0</td>\n",
       "      <td>0</td>\n",
       "      <td>None</td>\n",
       "      <td>None</td>\n",
       "      <td>Readng &amp; Rsch-Marketing PhD</td>\n",
       "    </tr>\n",
       "    <tr>\n",
       "      <th>4</th>\n",
       "      <td>e3a71e45-d934-3a90-ace3-1c3623724667</td>\n",
       "      <td>00293eb5-6dc1-36f7-99fc-6d8fb17f37d9</td>\n",
       "      <td>IND</td>\n",
       "      <td>107</td>\n",
       "      <td>null</td>\n",
       "      <td>f2d66a4d-0c08-3b48-abf6-649fffd7ae90</td>\n",
       "      <td>0</td>\n",
       "      <td>0</td>\n",
       "      <td>0</td>\n",
       "      <td>0</td>\n",
       "      <td>...</td>\n",
       "      <td>0</td>\n",
       "      <td>0</td>\n",
       "      <td>0</td>\n",
       "      <td>0</td>\n",
       "      <td>0</td>\n",
       "      <td>0</td>\n",
       "      <td>0</td>\n",
       "      <td>None</td>\n",
       "      <td>None</td>\n",
       "      <td>Readng &amp; Rsch-Marketing PhD</td>\n",
       "    </tr>\n",
       "  </tbody>\n",
       "</table>\n",
       "<p>5 rows × 25 columns</p>\n",
       "</div>"
      ],
      "text/plain": [
       "                                   uuid                  course_offering_uuid  \\\n",
       "0  f03eb2e1-8010-3357-97ce-6fa2e3c87499  00128b0a-ffbf-332c-b93c-53e011e55fb5   \n",
       "1  75c792a0-42cd-37f6-a575-37fb25644168  0015c914-93c4-3991-a63f-ea8a6e208552   \n",
       "2  46fdf222-bd05-393d-bcd8-fb7c16dc0c76  0015c914-93c4-3991-a63f-ea8a6e208552   \n",
       "3  deeb10e2-4a84-3f2a-aa82-c060327abf3b  00293eb5-6dc1-36f7-99fc-6d8fb17f37d9   \n",
       "4  e3a71e45-d934-3a90-ace3-1c3623724667  00293eb5-6dc1-36f7-99fc-6d8fb17f37d9   \n",
       "\n",
       "  section_type section_number                             room_uuid  \\\n",
       "0          IND             16                                  null   \n",
       "1          LEC              1  bb9eba97-b269-3860-b60e-804c98a90461   \n",
       "2          LEC              7  dd6118e0-7221-3b81-9b29-aad61f0ede54   \n",
       "3          IND             10                                  null   \n",
       "4          IND            107                                  null   \n",
       "\n",
       "                          schedule_uuid n_count c_count f_count cr_count  ...  \\\n",
       "0  f2d66a4d-0c08-3b48-abf6-649fffd7ae90       0       0       0        0  ...   \n",
       "1  488512b0-55c4-37eb-8ef3-f6c2edb595c9       0       0       0        0  ...   \n",
       "2  acfa659f-afaa-355c-a3a9-16d23ad183b9       0       0       0        0  ...   \n",
       "3  f2d66a4d-0c08-3b48-abf6-649fffd7ae90       0       0       0        0  ...   \n",
       "4  f2d66a4d-0c08-3b48-abf6-649fffd7ae90       0       0       0        0  ...   \n",
       "\n",
       "  d_count ab_count a_count s_count i_count b_count nr_count facility_code  \\\n",
       "0       0        0       0       0       0       0        0          None   \n",
       "1       0        8      15       1       0       3        0          0140   \n",
       "2       0        0      18       0       0       0        0          0140   \n",
       "3       0        0       0       0       0       0        0          None   \n",
       "4       0        0       0       0       0       0        0          None   \n",
       "\n",
       "  room_code                         name  \n",
       "0      None   Reading & Rsch-Finance PhD  \n",
       "1      2195          Contemporary Topics  \n",
       "2      1070          Contemporary Topics  \n",
       "3      None  Readng & Rsch-Marketing PhD  \n",
       "4      None  Readng & Rsch-Marketing PhD  \n",
       "\n",
       "[5 rows x 25 columns]"
      ]
     },
     "execution_count": 240,
     "metadata": {},
     "output_type": "execute_result"
    }
   ],
   "source": [
    "query = \"\"\"\n",
    "SELECT DISTINCT ON (sections.course_offering_uuid, sections.number)\n",
    "  sections.uuid\n",
    ", sections.course_offering_uuid\n",
    ", sections.section_type\n",
    ", sections.number AS section_number\n",
    ", sections.room_uuid\n",
    ", sections.schedule_uuid\n",
    "-- , course_offering_uuid\n",
    "-- , section_number\n",
    ", n_count\n",
    ", c_count\n",
    ", f_count\n",
    ", cr_count\n",
    ", p_count\n",
    ", nw_count\n",
    ", other_count\n",
    ", bc_count\n",
    ", u_count\n",
    ", d_count\n",
    ", ab_count\n",
    ", a_count\n",
    ", s_count\n",
    ", i_count\n",
    ", b_count\n",
    ", nr_count\n",
    "-- , uuid\n",
    ", facility_code\n",
    ", room_code\n",
    ",course_offerings.name\n",
    "-- ,subject_code\n",
    "FROM sections \n",
    "    INNER JOIN grade_distributions\n",
    "        ON sections.course_offering_uuid = grade_distributions.course_offering_uuid\n",
    "            AND sections.number = grade_distributions.section_number\n",
    "    INNER JOIN course_offerings \n",
    "        ON sections.course_offering_uuid = course_offerings.uuid\n",
    "    INNER JOIN subject_memberships\n",
    "        ON sections.course_offering_uuid = subject_memberships.course_offering_uuid\n",
    "    LEFT JOIN rooms ON sections.room_uuid = rooms.uuid\n",
    "    WHERE subject_memberships.subject_code in ('231', '232', '233', '235', '236', '237', '238', '239', '241', '242')\n",
    "\n",
    "\n",
    ";                      \n",
    "\"\"\"\n",
    "\n",
    "cur.execute(query)\n",
    "df= pd.DataFrame(cur.fetchall())\n",
    "df.columns = [i[0] for i in cur.description]\n",
    "df.head(5)"
   ]
  },
  {
   "cell_type": "code",
   "execution_count": 241,
   "metadata": {},
   "outputs": [
    {
     "data": {
      "text/plain": [
       "0"
      ]
     },
     "execution_count": 241,
     "metadata": {},
     "output_type": "execute_result"
    }
   ],
   "source": [
    "sum(df.duplicated())   #no duplicated rows"
   ]
  },
  {
   "cell_type": "code",
   "execution_count": 242,
   "metadata": {},
   "outputs": [],
   "source": [
    "df = df.drop(\n",
    "    ['course_offering_uuid','section_number','schedule_uuid','n_count','cr_count',\n",
    "     'p_count','nw_count','other_count','u_count','s_count','i_count','nr_count'], axis=1)"
   ]
  },
  {
   "cell_type": "code",
   "execution_count": 243,
   "metadata": {},
   "outputs": [],
   "source": [
    "for i in list(df.columns[3:10]):df[i]=df[i].astype('int64')   #convert str grade counts to int"
   ]
  },
  {
   "cell_type": "code",
   "execution_count": 244,
   "metadata": {},
   "outputs": [
    {
     "data": {
      "text/plain": [
       "{'a_count': 4.0,\n",
       " 'ab_count': 3.5,\n",
       " 'b_count': 3.0,\n",
       " 'bc_count': 2.5,\n",
       " 'c_count': 2.0,\n",
       " 'd_count': 1.0,\n",
       " 'f_count': 0.0}"
      ]
     },
     "execution_count": 244,
     "metadata": {},
     "output_type": "execute_result"
    }
   ],
   "source": [
    "count_cols = sorted(i for i in df.columns if i.endswith('_count'))\n",
    "\n",
    "grade_points = [4.0, 3.5, 3.0, 2.5, 2.0, 1.0, 0.0]\n",
    "\n",
    "count_col_values = dict(zip(count_cols, grade_points))\n",
    "count_col_values"
   ]
  },
  {
   "cell_type": "code",
   "execution_count": 245,
   "metadata": {},
   "outputs": [],
   "source": [
    "grades_df = df.loc[:, count_col_values.keys()]"
   ]
  },
  {
   "cell_type": "code",
   "execution_count": 246,
   "metadata": {},
   "outputs": [],
   "source": [
    "grade_values = np.array(list(count_col_values.values()))"
   ]
  },
  {
   "cell_type": "code",
   "execution_count": 247,
   "metadata": {},
   "outputs": [
    {
     "data": {
      "text/plain": [
       "26"
      ]
     },
     "execution_count": 247,
     "metadata": {},
     "output_type": "execute_result"
    }
   ],
   "source": [
    "grade_counts = grades_df.values\n",
    "grade_counts[1]\n",
    "sum(grade_counts[1])"
   ]
  },
  {
   "cell_type": "code",
   "execution_count": 248,
   "metadata": {},
   "outputs": [],
   "source": [
    "grade_points = grade_counts @ grade_values"
   ]
  },
  {
   "cell_type": "code",
   "execution_count": 249,
   "metadata": {},
   "outputs": [
    {
     "name": "stderr",
     "output_type": "stream",
     "text": [
      "/Users/flatironschool/anaconda3/envs/learn/lib/python3.7/site-packages/ipykernel_launcher.py:2: RuntimeWarning: invalid value encountered in double_scalars\n",
      "  \n"
     ]
    }
   ],
   "source": [
    "df['avg_grade_points'] = [grade_points[i]/sum(grade_counts[i]) \n",
    "                                                for i in range(len(grade_points))]"
   ]
  },
  {
   "cell_type": "code",
   "execution_count": 250,
   "metadata": {},
   "outputs": [],
   "source": [
    "df = df.dropna(subset = ['avg_grade_points'])"
   ]
  },
  {
   "cell_type": "code",
   "execution_count": 251,
   "metadata": {},
   "outputs": [
    {
     "data": {
      "text/plain": [
       "array(['86d1debf-3f3a-39b7-bc0d-976a4fa33862'], dtype=object)"
      ]
     },
     "execution_count": 251,
     "metadata": {},
     "output_type": "execute_result"
    }
   ],
   "source": [
    "df.loc[df['facility_code']=='ONLINE']['room_uuid'].unique()    #the room unique id for online courses is 86d1debf-3f3a-39b7-bc0d-976a4fa33862"
   ]
  },
  {
   "cell_type": "code",
   "execution_count": 252,
   "metadata": {},
   "outputs": [
    {
     "data": {
      "text/plain": [
       "(53, 14)"
      ]
     },
     "execution_count": 252,
     "metadata": {},
     "output_type": "execute_result"
    }
   ],
   "source": [
    "#to get the list of online courses \n",
    "online_df = df.loc[df['room_uuid']=='86d1debf-3f3a-39b7-bc0d-976a4fa33862']\n",
    "online_df.head()\n",
    "online_df.shape"
   ]
  },
  {
   "cell_type": "code",
   "execution_count": 253,
   "metadata": {},
   "outputs": [
    {
     "data": {
      "text/plain": [
       "(5655, 14)"
      ]
     },
     "execution_count": 253,
     "metadata": {},
     "output_type": "execute_result"
    }
   ],
   "source": [
    "#to get the list of courses that are not online\n",
    "non_online_df = df.loc[df['room_uuid']!='86d1debf-3f3a-39b7-bc0d-976a4fa33862']\n",
    "non_online_df.head()\n",
    "non_online_df.shape"
   ]
  },
  {
   "cell_type": "code",
   "execution_count": 255,
   "metadata": {},
   "outputs": [
    {
     "data": {
      "image/png": "[encoded data removed]",
      "text/plain": [
       "<Figure size 1080x720 with 1 Axes>"
      ]
     },
     "metadata": {},
     "output_type": "display_data"
    }
   ],
   "source": [
    "sns.set(rc={'figure.figsize':(15,10)})\n",
    "plt.ylabel('distribution')\n",
    "plt.title('Average Grade Ditribution')\n",
    "sns.distplot(non_online_df['avg_grade_points']);  # Blue distribution\n",
    "sns.distplot(online_df['avg_grade_points']);  # Orange distribution"
   ]
  },
  {
   "cell_type": "code",
   "execution_count": 258,
   "metadata": {},
   "outputs": [
    {
     "name": "stdout",
     "output_type": "stream",
     "text": [
      "NormaltestResult(statistic=396.16127992319343, pvalue=9.433461749270088e-87)\n",
      "NormaltestResult(statistic=0.13421102167083698, pvalue=0.9350965333151684)\n"
     ]
    }
   ],
   "source": [
    "print(s.normaltest(non_online_df['avg_grade_points']))  #non_online avg grade points are not normally distributed\n",
    "print(s.normaltest(online_df['avg_grade_points']))     #online avg grade points are not normally distributed"
   ]
  },
  {
   "cell_type": "code",
   "execution_count": 259,
   "metadata": {},
   "outputs": [],
   "source": [
    "non_online_sample_means= [non_online_df['avg_grade_points'].sample(frac = 1, replace = True).mean() \n",
    "                          for i in range(1000)]"
   ]
  },
  {
   "cell_type": "code",
   "execution_count": 260,
   "metadata": {},
   "outputs": [],
   "source": [
    "online_sample_means= [online_df['avg_grade_points'].sample(frac = 1, replace = True).mean() \n",
    "                          for i in range(1000)]"
   ]
  },
  {
   "cell_type": "code",
   "execution_count": 262,
   "metadata": {},
   "outputs": [
    {
     "data": {
      "image/png": "[encoded data removed]",
      "text/plain": [
       "<Figure size 432x288 with 1 Axes>"
      ]
     },
     "metadata": {
      "needs_background": "light"
     },
     "output_type": "display_data"
    }
   ],
   "source": [
    "plt.xlabel('mean of sampled average grades')\n",
    "plt.ylabel('distribution')\n",
    "plt.title('Average Grade Sample Means Ditribution')\n",
    "sns.distplot(non_online_sample_means);\n",
    "sns.distplot(online_sample_means);"
   ]
  },
  {
   "cell_type": "code",
   "execution_count": 263,
   "metadata": {},
   "outputs": [
    {
     "data": {
      "text/plain": [
       "Ttest_indResult(statistic=171.1653925254367, pvalue=0.0)"
      ]
     },
     "execution_count": 263,
     "metadata": {},
     "output_type": "execute_result"
    }
   ],
   "source": [
    "ttest_ind(non_online_sample_means, online_sample_means)  "
   ]
  },
  {
   "cell_type": "markdown",
   "metadata": {},
   "source": [
    "With alpha of 0.05 and pvalue/2 < alpha, the average grade among students who take online courses is lower than the rest of the students."
   ]
  },
  {
   "cell_type": "markdown",
   "metadata": {},
   "source": [
    "## H1: There is a difference between lecture classes of different number of students in terms of average grades.\n",
    "## H0: There is no difference between lecture classes of different number of students in terms of average grades."
   ]
  },
  {
   "cell_type": "code",
   "execution_count": 286,
   "metadata": {},
   "outputs": [],
   "source": [
    "non_online_lecture_df= non_online_df[non_online_df[\"section_type\"]=='LEC']"
   ]
  },
  {
   "cell_type": "code",
   "execution_count": 287,
   "metadata": {},
   "outputs": [],
   "source": [
    "count_cols = sorted(i for i in df.columns if i.endswith('_count'))"
   ]
  },
  {
   "cell_type": "code",
   "execution_count": 289,
   "metadata": {},
   "outputs": [
    {
     "name": "stderr",
     "output_type": "stream",
     "text": [
      "/Users/flatironschool/anaconda3/envs/learn/lib/python3.7/site-packages/ipykernel_launcher.py:1: SettingWithCopyWarning: \n",
      "A value is trying to be set on a copy of a slice from a DataFrame.\n",
      "Try using .loc[row_indexer,col_indexer] = value instead\n",
      "\n",
      "See the caveats in the documentation: http://pandas.pydata.org/pandas-docs/stable/indexing.html#indexing-view-versus-copy\n",
      "  \"\"\"Entry point for launching an IPython kernel.\n"
     ]
    }
   ],
   "source": [
    "non_online_lecture_df['class_size'] = non_online_lecture_df.loc[:, count_cols].sum(axis=1)"
   ]
  },
  {
   "cell_type": "code",
   "execution_count": 290,
   "metadata": {},
   "outputs": [
    {
     "data": {
      "image/png": "[encoded data removed]",
      "text/plain": [
       "<Figure size 432x288 with 1 Axes>"
      ]
     },
     "metadata": {
      "needs_background": "light"
     },
     "output_type": "display_data"
    }
   ],
   "source": [
    "sns.distplot(non_online_lecture_df['class_size']);  # Blue distribution"
   ]
  },
  {
   "cell_type": "code",
   "execution_count": 291,
   "metadata": {},
   "outputs": [],
   "source": [
    "mean_class_size = non_online_lecture_df['class_size'].mean() "
   ]
  },
  {
   "cell_type": "code",
   "execution_count": 292,
   "metadata": {},
   "outputs": [],
   "source": [
    "below_mean_non_online_lecture_df = non_online_lecture_df.loc[non_online_lecture_df['class_size'] > \n",
    "                                                             mean_class_size]\n",
    "above_mean_non_online_lecture_df = non_online_lecture_df.loc[non_online_lecture_df['class_size'] < \n",
    "                                                             mean_class_size]"
   ]
  },
  {
   "cell_type": "code",
   "execution_count": 293,
   "metadata": {},
   "outputs": [
    {
     "data": {
      "image/png": "[encoded data removed]",
      "text/plain": [
       "<Figure size 432x288 with 1 Axes>"
      ]
     },
     "metadata": {
      "needs_background": "light"
     },
     "output_type": "display_data"
    }
   ],
   "source": [
    "sns.distplot(below_mean_non_online_lecture_df['avg_grade_points']);  # Blue distribution\n",
    "sns.distplot(above_mean_non_online_lecture_df['avg_grade_points']);"
   ]
  },
  {
   "cell_type": "code",
   "execution_count": 294,
   "metadata": {},
   "outputs": [
    {
     "name": "stdout",
     "output_type": "stream",
     "text": [
      "NormaltestResult(statistic=33.975159787286486, pvalue=4.1916768230513746e-08)\n",
      "NormaltestResult(statistic=255.83459375200118, pvalue=2.793983433951491e-56)\n"
     ]
    }
   ],
   "source": [
    "#check if the data is normally distributed\n",
    "print(s.normaltest(below_mean_non_online_lecture_df['avg_grade_points'])) \n",
    "\n",
    "print(s.normaltest(above_mean_non_online_lecture_df['avg_grade_points']))"
   ]
  },
  {
   "cell_type": "code",
   "execution_count": 295,
   "metadata": {},
   "outputs": [],
   "source": [
    "below_mean_non_online_lecture_sample_means= [below_mean_non_online_lecture_df['avg_grade_points'].sample(frac = 1, replace = True).mean() \n",
    "                          for i in range(1000)]"
   ]
  },
  {
   "cell_type": "code",
   "execution_count": 296,
   "metadata": {},
   "outputs": [],
   "source": [
    "above_mean_non_online_lecture_sample_means= [above_mean_non_online_lecture_df['avg_grade_points'].sample(frac = 1, replace = True).mean() \n",
    "                          for i in range(1000)]"
   ]
  },
  {
   "cell_type": "code",
   "execution_count": 297,
   "metadata": {},
   "outputs": [
    {
     "data": {
      "image/png": "[encoded data removed]",
      "text/plain": [
       "<Figure size 432x288 with 1 Axes>"
      ]
     },
     "metadata": {
      "needs_background": "light"
     },
     "output_type": "display_data"
    }
   ],
   "source": [
    "sns.distplot(below_mean_non_online_lecture_sample_means);\n",
    "sns.distplot(above_mean_non_online_lecture_sample_means);"
   ]
  },
  {
   "cell_type": "code",
   "execution_count": 298,
   "metadata": {},
   "outputs": [
    {
     "data": {
      "text/plain": [
       "Ttest_indResult(statistic=-727.7911019177567, pvalue=0.0)"
      ]
     },
     "execution_count": 298,
     "metadata": {},
     "output_type": "execute_result"
    }
   ],
   "source": [
    "ttest_ind(below_mean_non_online_lecture_sample_means, above_mean_non_online_lecture_sample_means)  "
   ]
  },
  {
   "cell_type": "markdown",
   "metadata": {},
   "source": [
    "Based on the P-value and the alpha of 0.05, there is a difference between lecture classes of different number of students in terms of average grades."
   ]
  },
  {
   "cell_type": "markdown",
   "metadata": {},
   "source": [
    "## H1: There is a difference between grades offered in Fall term and those in Spring term.\n",
    "## H0: There is no difference between grades offered in Fall term and those in Spring term."
   ]
  },
  {
   "cell_type": "code",
   "execution_count": 265,
   "metadata": {},
   "outputs": [],
   "source": [
    "cur.execute ( \"\"\"SELECT\n",
    "DISTINCT ON (sections.course_offering_uuid, sections.number)\n",
    "  sections.uuid\n",
    ", sections.course_offering_uuid\n",
    ", sections.section_type\n",
    ", sections.number AS section_number\n",
    ", sections.schedule_uuid\n",
    ", facility_code\n",
    ", term_code\n",
    ", course_offerings.name\n",
    ", a_count\n",
    ", ab_count\n",
    ", b_count\n",
    ", bc_count\n",
    ", c_count\n",
    ", d_count\n",
    ", f_count\n",
    "-- ,subject_code\n",
    "-- , course_offering_uuid\n",
    "-- , section_number\n",
    "-- , uuid\n",
    "FROM sections\n",
    "   INNER JOIN grade_distributions\n",
    "       ON sections.course_offering_uuid = grade_distributions.course_offering_uuid\n",
    "           AND sections.number = grade_distributions.section_number\n",
    "   INNER JOIN course_offerings\n",
    "       ON sections.course_offering_uuid = course_offerings.uuid\n",
    "   INNER JOIN subject_memberships\n",
    "       ON sections.course_offering_uuid = subject_memberships.course_offering_uuid\n",
    "   LEFT JOIN rooms ON sections.room_uuid = rooms.uuid\n",
    "WHERE subject_memberships.subject_code in ('232', '233', '231', '237', '238', '242', '236', '239', '235','241')\n",
    ";\"\"\")\n",
    "course_grades_sub_df= pd.DataFrame(cur.fetchall())\n",
    "course_grades_sub_df.columns = [i[0] for i in cur.description]"
   ]
  },
  {
   "cell_type": "code",
   "execution_count": 266,
   "metadata": {},
   "outputs": [],
   "source": [
    "course_grades_sub_df['c_count'] = course_grades_sub_df['c_count'].astype(int)\n",
    "course_grades_sub_df['bc_count'] = course_grades_sub_df['bc_count'].astype(int)\n",
    "course_grades_sub_df['d_count'] = course_grades_sub_df['d_count'].astype(int)\n",
    "course_grades_sub_df['ab_count'] = course_grades_sub_df['ab_count'].astype(int)\n",
    "course_grades_sub_df['a_count'] = course_grades_sub_df['a_count'].astype(int)\n",
    "course_grades_sub_df['b_count'] = course_grades_sub_df['b_count'].astype(int)\n",
    "course_grades_sub_df['f_count'] = course_grades_sub_df['f_count'].astype(int)"
   ]
  },
  {
   "cell_type": "code",
   "execution_count": 267,
   "metadata": {},
   "outputs": [],
   "source": [
    "course_grades_sub_df['total_num_student'] = (course_grades_sub_df['a_count'] \n",
    "                                             + course_grades_sub_df['ab_count'] \n",
    "                                             + course_grades_sub_df['b_count']\n",
    "                                             + course_grades_sub_df['bc_count'] \n",
    "                                             + course_grades_sub_df['c_count'] \n",
    "                                             + course_grades_sub_df['d_count'] \n",
    "                                             + course_grades_sub_df['f_count'])"
   ]
  },
  {
   "cell_type": "code",
   "execution_count": 268,
   "metadata": {},
   "outputs": [],
   "source": [
    "course_grades_sub_df['avg_grade'] = (course_grades_sub_df['a_count']*4 + course_grades_sub_df['ab_count']*3.5 \n",
    "+ course_grades_sub_df['b_count']*3 + course_grades_sub_df['bc_count']*2.5 + course_grades_sub_df['c_count']*2\n",
    "+ course_grades_sub_df['d_count']*1)/course_grades_sub_df['total_num_student']"
   ]
  },
  {
   "cell_type": "markdown",
   "metadata": {},
   "source": [
    "As the analysis is solely based on courses that are graded, the dataframe only includes classes that have grades "
   ]
  },
  {
   "cell_type": "code",
   "execution_count": 269,
   "metadata": {},
   "outputs": [],
   "source": [
    "course_grades_sub_df = course_grades_sub_df.loc[~(course_grades_sub_df['total_num_student']==0),:]"
   ]
  },
  {
   "cell_type": "code",
   "execution_count": 270,
   "metadata": {},
   "outputs": [],
   "source": [
    "course_grades_sub_df['term_code'] = course_grades_sub_df['term_code'].astype(str)"
   ]
  },
  {
   "cell_type": "code",
   "execution_count": 271,
   "metadata": {},
   "outputs": [],
   "source": [
    "def term(term_code):\n",
    "    if term_code[-1] == '2':\n",
    "        return 'fall'\n",
    "    elif term_code[-1] == '4':\n",
    "        return 'spring'\n",
    "    else:\n",
    "        return 'other'           \n",
    "        \n",
    "course_grades_sub_df['term'] = course_grades_sub_df['term_code'].apply(term)"
   ]
  },
  {
   "cell_type": "code",
   "execution_count": 272,
   "metadata": {},
   "outputs": [
    {
     "data": {
      "text/plain": [
       "0"
      ]
     },
     "execution_count": 272,
     "metadata": {},
     "output_type": "execute_result"
    }
   ],
   "source": [
    "other_df = course_grades_sub_df.loc[course_grades_sub_df['term'] == 'other']\n",
    "len(other_df)"
   ]
  },
  {
   "cell_type": "code",
   "execution_count": 273,
   "metadata": {},
   "outputs": [
    {
     "data": {
      "text/plain": [
       "3168"
      ]
     },
     "execution_count": 273,
     "metadata": {},
     "output_type": "execute_result"
    }
   ],
   "source": [
    "fall_df = course_grades_sub_df.loc[course_grades_sub_df['term'] == 'fall']\n",
    "len(fall_df)"
   ]
  },
  {
   "cell_type": "code",
   "execution_count": 274,
   "metadata": {},
   "outputs": [
    {
     "data": {
      "text/plain": [
       "2540"
      ]
     },
     "execution_count": 274,
     "metadata": {},
     "output_type": "execute_result"
    }
   ],
   "source": [
    "spring_df = course_grades_sub_df.loc[course_grades_sub_df['term'] == 'spring']\n",
    "len(spring_df)"
   ]
  },
  {
   "cell_type": "markdown",
   "metadata": {},
   "source": [
    "Fall term dataframe"
   ]
  },
  {
   "cell_type": "code",
   "execution_count": 275,
   "metadata": {},
   "outputs": [],
   "source": [
    "fall_sample_mean = sum(fall_df['avg_grade'])/len(fall_df)"
   ]
  },
  {
   "cell_type": "code",
   "execution_count": 276,
   "metadata": {},
   "outputs": [
    {
     "data": {
      "text/plain": [
       "<matplotlib.axes._subplots.AxesSubplot at 0x1a20668898>"
      ]
     },
     "execution_count": 276,
     "metadata": {},
     "output_type": "execute_result"
    },
    {
     "data": {
      "image/png": "[encoded data removed]",
      "text/plain": [
       "<Figure size 432x288 with 1 Axes>"
      ]
     },
     "metadata": {
      "needs_background": "light"
     },
     "output_type": "display_data"
    }
   ],
   "source": [
    "sns.distplot(fall_df['avg_grade'])"
   ]
  },
  {
   "cell_type": "markdown",
   "metadata": {},
   "source": [
    "Spring term dataframe"
   ]
  },
  {
   "cell_type": "code",
   "execution_count": 277,
   "metadata": {},
   "outputs": [],
   "source": [
    "spring_sample_mean = sum(spring_df['avg_grade'])/len(spring_df)"
   ]
  },
  {
   "cell_type": "code",
   "execution_count": 278,
   "metadata": {},
   "outputs": [
    {
     "data": {
      "text/plain": [
       "<matplotlib.axes._subplots.AxesSubplot at 0x1a206719e8>"
      ]
     },
     "execution_count": 278,
     "metadata": {},
     "output_type": "execute_result"
    },
    {
     "data": {
      "image/png": "[encoded data removed]",
      "text/plain": [
       "<Figure size 432x288 with 1 Axes>"
      ]
     },
     "metadata": {
      "needs_background": "light"
     },
     "output_type": "display_data"
    }
   ],
   "source": [
    "sns.distplot(spring_df['avg_grade'])"
   ]
  },
  {
   "cell_type": "markdown",
   "metadata": {},
   "source": [
    "Bootstrapping for fall term and spring term"
   ]
  },
  {
   "cell_type": "code",
   "execution_count": 279,
   "metadata": {},
   "outputs": [],
   "source": [
    "bootstrap_samples_fall = []\n",
    "bootstrap_sample_means_fall = np.zeros(3168)\n",
    "for i in range(3168):\n",
    "    bootstrap_sample = np.random.choice(fall_df['avg_grade'], size=3168)\n",
    "    bootstrap_samples_fall.append(bootstrap_sample)\n",
    "    bootstrap_sample_means_fall[i] = bootstrap_sample.mean()"
   ]
  },
  {
   "cell_type": "code",
   "execution_count": 280,
   "metadata": {},
   "outputs": [],
   "source": [
    "bootstrap_samples_spring = []\n",
    "bootstrap_sample_means_spring = np.zeros(2540)\n",
    "for i in range(2540):\n",
    "    bootstrap_sample = np.random.choice(spring_df['avg_grade'], size=2540)\n",
    "    bootstrap_samples_spring.append(bootstrap_sample)\n",
    "    bootstrap_sample_means_spring[i] = bootstrap_sample.mean()"
   ]
  },
  {
   "cell_type": "code",
   "execution_count": 281,
   "metadata": {},
   "outputs": [
    {
     "data": {
      "image/png": "[encoded data removed]",
      "text/plain": [
       "<Figure size 432x288 with 1 Axes>"
      ]
     },
     "metadata": {
      "needs_background": "light"
     },
     "output_type": "display_data"
    }
   ],
   "source": [
    "fig, ax = plt.subplots()\n",
    "sns.distplot(bootstrap_sample_means_fall)\n",
    "sns.distplot(bootstrap_sample_means_spring)\n",
    "plt.title('Grades in Fall and Spring Terms')\n",
    "plt.xlabel('Grades')\n",
    "plt.ylabel('Number of students');"
   ]
  },
  {
   "cell_type": "code",
   "execution_count": 284,
   "metadata": {},
   "outputs": [
    {
     "name": "stdout",
     "output_type": "stream",
     "text": [
      "Ttest_indResult(statistic=0.9279896603589155, pvalue=0.35345218478355545)\n"
     ]
    }
   ],
   "source": [
    "print(s.ttest_ind(spring_df['avg_grade'], fall_df['avg_grade']))"
   ]
  },
  {
   "cell_type": "markdown",
   "metadata": {},
   "source": [
    "Based on the P-value and the alpha of 0.05, there is no difference between grades offered in Fall term and those in Spring term"
   ]
  }
 ],
 "metadata": {
  "kernelspec": {
   "display_name": "Python 3",
   "language": "python",
   "name": "python3"
  },
  "language_info": {
   "codemirror_mode": {
    "name": "ipython",
    "version": 3
   },
   "file_extension": ".py",
   "mimetype": "text/x-python",
   "name": "python",
   "nbconvert_exporter": "python",
   "pygments_lexer": "ipython3",
   "version": "3.7.3"
  }
 },
 "nbformat": 4,
 "nbformat_minor": 2
}
